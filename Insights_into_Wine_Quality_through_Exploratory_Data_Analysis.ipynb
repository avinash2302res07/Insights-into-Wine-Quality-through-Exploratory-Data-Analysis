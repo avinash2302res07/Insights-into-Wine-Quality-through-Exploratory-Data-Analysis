{
  "nbformat": 4,
  "nbformat_minor": 0,
  "metadata": {
    "colab": {
      "provenance": [],
      "authorship_tag": "ABX9TyN2h0jJbt9e1AOPRc1+8znS",
      "include_colab_link": true
    },
    "kernelspec": {
      "name": "python3",
      "display_name": "Python 3"
    },
    "language_info": {
      "name": "python"
    }
  },
  "cells": [
    {
      "cell_type": "markdown",
      "metadata": {
        "id": "view-in-github",
        "colab_type": "text"
      },
      "source": [
        "<a href=\"https://colab.research.google.com/github/avinash2302res07/Insights-into-Wine-Quality-through-Exploratory-Data-Analysis/blob/main/Insights_into_Wine_Quality_through_Exploratory_Data_Analysis.ipynb\" target=\"_parent\"><img src=\"https://colab.research.google.com/assets/colab-badge.svg\" alt=\"Open In Colab\"/></a>"
      ]
    },
    {
      "cell_type": "markdown",
      "source": [
        "**Step 1 : Import Necesaary libraries for data manipulation, visualization, and analysis**"
      ],
      "metadata": {
        "id": "3erYHykCXYgo"
      }
    },
    {
      "cell_type": "code",
      "source": [
        "import numpy as np\n",
        "import pandas as pd\n",
        "import matplotlib.pyplot as plt\n",
        "import seaborn as sns\n",
        "import warnings as wr\n",
        "wr.filterwarnings('ignore')"
      ],
      "metadata": {
        "id": "7YRF3d4VYVoo"
      },
      "execution_count": 4,
      "outputs": []
    },
    {
      "cell_type": "markdown",
      "source": [
        "**Step 2 : Reading dataset**"
      ],
      "metadata": {
        "id": "2Ea2t7OpZFTG"
      }
    },
    {
      "cell_type": "code",
      "source": [
        "#load the dataset and display the firts five row to understand it'structure\n",
        "df = pd.read_csv()"
      ],
      "metadata": {
        "id": "Jy2PR0Q-Z5FF"
      },
      "execution_count": null,
      "outputs": []
    }
  ]
}